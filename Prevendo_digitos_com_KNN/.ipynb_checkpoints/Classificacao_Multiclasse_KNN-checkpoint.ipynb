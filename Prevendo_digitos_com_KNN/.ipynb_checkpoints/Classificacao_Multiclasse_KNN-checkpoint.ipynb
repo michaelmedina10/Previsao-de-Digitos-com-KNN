{
 "cells": [
  {
   "cell_type": "markdown",
   "metadata": {},
   "source": [
    "<h2>Predicting Digits with KNN</h2>"
   ]
  },
  {
   "cell_type": "markdown",
   "metadata": {},
   "source": [
    "Esse é um exercicio ensinado pela escola:\n",
    "<a href = 'https://www.datascienceacademy.com.br/'>Data Science Academy</a>"
   ]
  },
  {
   "cell_type": "markdown",
   "metadata": {},
   "source": [
    "O objetivo é realizar uma classificação multiclasse usando o algoritmo KNN (K Nearest Neighbor) baseado nas dez imagens de digitos mostradas abaixo. O dataset está disponível no pacote scikit learn, também pode ser acessado pelo endereço: <a href = 'https://archive.ics.uci.edu/ml/datasets/Optical+Recognition+of+Handwritten+Digits'>https://archive.ics.uci.edu/ml/datasets/Optical+Recognition+of+Handwritten+Digits</a>"
   ]
  },
  {
   "cell_type": "markdown",
   "metadata": {},
   "source": [
    "Os dados referentes aos digitos estão armazenados em formato matricial, pois, uma imagem é uma matriz de pixels, nesse caso cada digito possui dimensão de 8x8 px, totalizando uma área de 64 pixels. Esses pixels são posicionados em formato de vetor (1 dimensão), por esse fato o dataset, possui 64 features/atributos/colunas."
   ]
  },
  {
   "cell_type": "code",
   "execution_count": 1,
   "metadata": {},
   "outputs": [
    {
     "data": {
      "image/png": "[encoded data removed]",
      "text/plain": [
       "<IPython.core.display.Image object>"
      ]
     },
     "execution_count": 1,
     "metadata": {},
     "output_type": "execute_result"
    }
   ],
   "source": [
    "from IPython.display import Image\n",
    "Image('imagens/digitos.png')"
   ]
  },
  {
   "cell_type": "markdown",
   "metadata": {},
   "source": [
    "Loading and exploring the dataset"
   ]
  },
  {
   "cell_type": "code",
   "execution_count": 2,
   "metadata": {},
   "outputs": [],
   "source": [
    "import numpy as np\n",
    "from sklearn import datasets\n",
    "from sklearn.model_selection import train_test_split\n",
    "from sklearn.metrics import confusion_matrix\n",
    "from sklearn.metrics import classification_report\n",
    "from sklearn.neighbors import KNeighborsClassifier\n",
    "#from sklearn.preprocessing import MinMaxScaler\n",
    "import matplotlib.pyplot as plt\n",
    "import warnings\n",
    "warnings.filterwarnings('ignore')\n"
   ]
  },
  {
   "cell_type": "code",
   "execution_count": null,
   "metadata": {},
   "outputs": [],
   "source": []
  },
  {
   "cell_type": "code",
   "execution_count": 3,
   "metadata": {},
   "outputs": [],
   "source": [
    "digitos = datasets.load_digits()"
   ]
  },
  {
   "cell_type": "code",
   "execution_count": 4,
   "metadata": {},
   "outputs": [
    {
     "data": {
      "text/plain": [
       "sklearn.utils.Bunch"
      ]
     },
     "execution_count": 4,
     "metadata": {},
     "output_type": "execute_result"
    }
   ],
   "source": [
    "type(digitos)"
   ]
  },
  {
   "cell_type": "code",
   "execution_count": 5,
   "metadata": {},
   "outputs": [
    {
     "data": {
      "text/plain": [
       "{'data': array([[ 0.,  0.,  5., ...,  0.,  0.,  0.],\n",
       "        [ 0.,  0.,  0., ..., 10.,  0.,  0.],\n",
       "        [ 0.,  0.,  0., ..., 16.,  9.,  0.],\n",
       "        ...,\n",
       "        [ 0.,  0.,  1., ...,  6.,  0.,  0.],\n",
       "        [ 0.,  0.,  2., ..., 12.,  0.,  0.],\n",
       "        [ 0.,  0., 10., ..., 12.,  1.,  0.]]),\n",
       " 'target': array([0, 1, 2, ..., 8, 9, 8]),\n",
       " 'frame': None,\n",
       " 'feature_names': ['pixel_0_0',\n",
       "  'pixel_0_1',\n",
       "  'pixel_0_2',\n",
       "  'pixel_0_3',\n",
       "  'pixel_0_4',\n",
       "  'pixel_0_5',\n",
       "  'pixel_0_6',\n",
       "  'pixel_0_7',\n",
       "  'pixel_1_0',\n",
       "  'pixel_1_1',\n",
       "  'pixel_1_2',\n",
       "  'pixel_1_3',\n",
       "  'pixel_1_4',\n",
       "  'pixel_1_5',\n",
       "  'pixel_1_6',\n",
       "  'pixel_1_7',\n",
       "  'pixel_2_0',\n",
       "  'pixel_2_1',\n",
       "  'pixel_2_2',\n",
       "  'pixel_2_3',\n",
       "  'pixel_2_4',\n",
       "  'pixel_2_5',\n",
       "  'pixel_2_6',\n",
       "  'pixel_2_7',\n",
       "  'pixel_3_0',\n",
       "  'pixel_3_1',\n",
       "  'pixel_3_2',\n",
       "  'pixel_3_3',\n",
       "  'pixel_3_4',\n",
       "  'pixel_3_5',\n",
       "  'pixel_3_6',\n",
       "  'pixel_3_7',\n",
       "  'pixel_4_0',\n",
       "  'pixel_4_1',\n",
       "  'pixel_4_2',\n",
       "  'pixel_4_3',\n",
       "  'pixel_4_4',\n",
       "  'pixel_4_5',\n",
       "  'pixel_4_6',\n",
       "  'pixel_4_7',\n",
       "  'pixel_5_0',\n",
       "  'pixel_5_1',\n",
       "  'pixel_5_2',\n",
       "  'pixel_5_3',\n",
       "  'pixel_5_4',\n",
       "  'pixel_5_5',\n",
       "  'pixel_5_6',\n",
       "  'pixel_5_7',\n",
       "  'pixel_6_0',\n",
       "  'pixel_6_1',\n",
       "  'pixel_6_2',\n",
       "  'pixel_6_3',\n",
       "  'pixel_6_4',\n",
       "  'pixel_6_5',\n",
       "  'pixel_6_6',\n",
       "  'pixel_6_7',\n",
       "  'pixel_7_0',\n",
       "  'pixel_7_1',\n",
       "  'pixel_7_2',\n",
       "  'pixel_7_3',\n",
       "  'pixel_7_4',\n",
       "  'pixel_7_5',\n",
       "  'pixel_7_6',\n",
       "  'pixel_7_7'],\n",
       " 'target_names': array([0, 1, 2, 3, 4, 5, 6, 7, 8, 9]),\n",
       " 'images': array([[[ 0.,  0.,  5., ...,  1.,  0.,  0.],\n",
       "         [ 0.,  0., 13., ..., 15.,  5.,  0.],\n",
       "         [ 0.,  3., 15., ..., 11.,  8.,  0.],\n",
       "         ...,\n",
       "         [ 0.,  4., 11., ..., 12.,  7.,  0.],\n",
       "         [ 0.,  2., 14., ..., 12.,  0.,  0.],\n",
       "         [ 0.,  0.,  6., ...,  0.,  0.,  0.]],\n",
       " \n",
       "        [[ 0.,  0.,  0., ...,  5.,  0.,  0.],\n",
       "         [ 0.,  0.,  0., ...,  9.,  0.,  0.],\n",
       "         [ 0.,  0.,  3., ...,  6.,  0.,  0.],\n",
       "         ...,\n",
       "         [ 0.,  0.,  1., ...,  6.,  0.,  0.],\n",
       "         [ 0.,  0.,  1., ...,  6.,  0.,  0.],\n",
       "         [ 0.,  0.,  0., ..., 10.,  0.,  0.]],\n",
       " \n",
       "        [[ 0.,  0.,  0., ..., 12.,  0.,  0.],\n",
       "         [ 0.,  0.,  3., ..., 14.,  0.,  0.],\n",
       "         [ 0.,  0.,  8., ..., 16.,  0.,  0.],\n",
       "         ...,\n",
       "         [ 0.,  9., 16., ...,  0.,  0.,  0.],\n",
       "         [ 0.,  3., 13., ..., 11.,  5.,  0.],\n",
       "         [ 0.,  0.,  0., ..., 16.,  9.,  0.]],\n",
       " \n",
       "        ...,\n",
       " \n",
       "        [[ 0.,  0.,  1., ...,  1.,  0.,  0.],\n",
       "         [ 0.,  0., 13., ...,  2.,  1.,  0.],\n",
       "         [ 0.,  0., 16., ..., 16.,  5.,  0.],\n",
       "         ...,\n",
       "         [ 0.,  0., 16., ..., 15.,  0.,  0.],\n",
       "         [ 0.,  0., 15., ..., 16.,  0.,  0.],\n",
       "         [ 0.,  0.,  2., ...,  6.,  0.,  0.]],\n",
       " \n",
       "        [[ 0.,  0.,  2., ...,  0.,  0.,  0.],\n",
       "         [ 0.,  0., 14., ..., 15.,  1.,  0.],\n",
       "         [ 0.,  4., 16., ..., 16.,  7.,  0.],\n",
       "         ...,\n",
       "         [ 0.,  0.,  0., ..., 16.,  2.,  0.],\n",
       "         [ 0.,  0.,  4., ..., 16.,  2.,  0.],\n",
       "         [ 0.,  0.,  5., ..., 12.,  0.,  0.]],\n",
       " \n",
       "        [[ 0.,  0., 10., ...,  1.,  0.,  0.],\n",
       "         [ 0.,  2., 16., ...,  1.,  0.,  0.],\n",
       "         [ 0.,  0., 15., ..., 15.,  0.,  0.],\n",
       "         ...,\n",
       "         [ 0.,  4., 16., ..., 16.,  6.,  0.],\n",
       "         [ 0.,  8., 16., ..., 16.,  8.,  0.],\n",
       "         [ 0.,  1.,  8., ..., 12.,  1.,  0.]]]),\n",
       " 'DESCR': \".. _digits_dataset:\\n\\nOptical recognition of handwritten digits dataset\\n--------------------------------------------------\\n\\n**Data Set Characteristics:**\\n\\n    :Number of Instances: 5620\\n    :Number of Attributes: 64\\n    :Attribute Information: 8x8 image of integer pixels in the range 0..16.\\n    :Missing Attribute Values: None\\n    :Creator: E. Alpaydin (alpaydin '@' boun.edu.tr)\\n    :Date: July; 1998\\n\\nThis is a copy of the test set of the UCI ML hand-written digits datasets\\nhttps://archive.ics.uci.edu/ml/datasets/Optical+Recognition+of+Handwritten+Digits\\n\\nThe data set contains images of hand-written digits: 10 classes where\\neach class refers to a digit.\\n\\nPreprocessing programs made available by NIST were used to extract\\nnormalized bitmaps of handwritten digits from a preprinted form. From a\\ntotal of 43 people, 30 contributed to the training set and different 13\\nto the test set. 32x32 bitmaps are divided into nonoverlapping blocks of\\n4x4 and the number of on pixels are counted in each block. This generates\\nan input matrix of 8x8 where each element is an integer in the range\\n0..16. This reduces dimensionality and gives invariance to small\\ndistortions.\\n\\nFor info on NIST preprocessing routines, see M. D. Garris, J. L. Blue, G.\\nT. Candela, D. L. Dimmick, J. Geist, P. J. Grother, S. A. Janet, and C.\\nL. Wilson, NIST Form-Based Handprint Recognition System, NISTIR 5469,\\n1994.\\n\\n.. topic:: References\\n\\n  - C. Kaynak (1995) Methods of Combining Multiple Classifiers and Their\\n    Applications to Handwritten Digit Recognition, MSc Thesis, Institute of\\n    Graduate Studies in Science and Engineering, Bogazici University.\\n  - E. Alpaydin, C. Kaynak (1998) Cascading Classifiers, Kybernetika.\\n  - Ken Tang and Ponnuthurai N. Suganthan and Xi Yao and A. Kai Qin.\\n    Linear dimensionalityreduction using relevance weighted LDA. School of\\n    Electrical and Electronic Engineering Nanyang Technological University.\\n    2005.\\n  - Claudio Gentile. A New Approximate Maximal Margin Classification\\n    Algorithm. NIPS. 2000.\"}"
      ]
     },
     "execution_count": 5,
     "metadata": {},
     "output_type": "execute_result"
    }
   ],
   "source": [
    "digitos"
   ]
  },
  {
   "cell_type": "code",
   "execution_count": 6,
   "metadata": {},
   "outputs": [
    {
     "data": {
      "image/png": "[encoded data removed]",
      "text/plain": [
       "<Figure size 432x288 with 10 Axes>"
      ]
     },
     "metadata": {
      "needs_background": "light"
     },
     "output_type": "display_data"
    }
   ],
   "source": [
    "images_e_labels = list(zip(digitos.images, digitos.target))\n",
    "for indice, (image, label) in enumerate(images_e_labels[:10]):\n",
    "    plt.subplot(2,5, indice + 1)\n",
    "    plt.axis('off')\n",
    "    plt.imshow(image, cmap= plt.cm.gray_r)\n",
    "    plt.title(f'Label {label}')\n",
    "    "
   ]
  },
  {
   "cell_type": "code",
   "execution_count": 7,
   "metadata": {},
   "outputs": [
    {
     "data": {
      "text/plain": [
       "(1797, 64)"
      ]
     },
     "execution_count": 7,
     "metadata": {},
     "output_type": "execute_result"
    }
   ],
   "source": [
    "# Indica que tenho 1797 registros de imagens salvas\n",
    "digitos.data.shape"
   ]
  },
  {
   "cell_type": "code",
   "execution_count": 8,
   "metadata": {},
   "outputs": [
    {
     "data": {
      "text/plain": [
       "(1797,)"
      ]
     },
     "execution_count": 8,
     "metadata": {},
     "output_type": "execute_result"
    }
   ],
   "source": [
    "# 1797 variáveis target\n",
    "digitos.target.shape"
   ]
  },
  {
   "cell_type": "code",
   "execution_count": 9,
   "metadata": {},
   "outputs": [],
   "source": [
    "# Separando variáveis explanatória e variável target\n",
    "X = digitos.data\n",
    "y = digitos.target"
   ]
  },
  {
   "cell_type": "markdown",
   "metadata": {},
   "source": [
    "Realizando a divisão, dados de treino, dados de teste, dados de validação"
   ]
  },
  {
   "cell_type": "markdown",
   "metadata": {},
   "source": [
    "A divisão será:\n",
    "- 70% Treino, \n",
    "- 20% Teste\n",
    "- 10% Validação"
   ]
  },
  {
   "cell_type": "code",
   "execution_count": 10,
   "metadata": {},
   "outputs": [],
   "source": [
    "seed = 101\n",
    "x_train, x_test, y_train, y_test = train_test_split(X, y, test_size = 0.30, random_state = seed)"
   ]
  },
  {
   "cell_type": "code",
   "execution_count": 11,
   "metadata": {},
   "outputs": [
    {
     "name": "stdout",
     "output_type": "stream",
     "text": [
      "X_train: 1257\n",
      "Y_train: 1257\n",
      "X_test: 540\n",
      "Y_test: 540\n"
     ]
    }
   ],
   "source": [
    "# Imprimindo o número de exemplos (observações) em cada dataset\n",
    "print(\"X_train: {}\".format(len(x_train)))\n",
    "print(\"Y_train: {}\".format(len(y_train)))\n",
    "print(\"X_test: {}\".format(len(x_test)))\n",
    "print(\"Y_test: {}\".format(len(y_test)))"
   ]
  },
  {
   "cell_type": "code",
   "execution_count": 12,
   "metadata": {},
   "outputs": [],
   "source": [
    "### Separando as amostras de validação\n",
    "treinoData, validData, treinoLabels, validLabels = train_test_split(x_train, \n",
    "                                                                    y_train, \n",
    "                                                                    test_size = 0.1, \n",
    "                                                                    random_state = 84)"
   ]
  },
  {
   "cell_type": "code",
   "execution_count": 13,
   "metadata": {},
   "outputs": [
    {
     "name": "stdout",
     "output_type": "stream",
     "text": [
      "TreinoData: 1131\n",
      "ValidData: 126\n",
      "TreinoLabels: 1131\n",
      "ValidLabels: 126\n"
     ]
    }
   ],
   "source": [
    "# Imprimindo o número de exemplos (observações) em cada dataset\n",
    "print(\"TreinoData: {}\".format(len(treinoData)))\n",
    "print(\"ValidData: {}\".format(len(validData)))\n",
    "print(\"TreinoLabels: {}\".format(len(treinoLabels)))\n",
    "print(\"ValidLabels: {}\".format(len(validLabels)))"
   ]
  },
  {
   "cell_type": "markdown",
   "metadata": {},
   "source": [
    "Como podemos ver, primeiramente fizemos uma divisão baseada em:\n",
    "- 70% dados de treino\n",
    "- 30% dados de teste\n",
    "\n",
    "Resultando em 1257 amostras para treino e 540 para teste respectivamente.<br>\n",
    "Na segunda divisão usamos os dados de treino, 70%, e mantivemos 90% para validação, e das 540 amostras de teste, 30% do dataset original, separamos em 10% para validarmos durante o treinamento."
   ]
  },
  {
   "cell_type": "markdown",
   "metadata": {},
   "source": [
    "<h2>Normalizando os dados</h2>\n",
    "\n",
    "Iremos normalizar os dados fazendo uso do pacote numpy"
   ]
  },
  {
   "cell_type": "code",
   "execution_count": 14,
   "metadata": {},
   "outputs": [],
   "source": [
    "x_norm = np.mean(X, axis=0)\n",
    "x_norm.shape\n",
    "\n",
    "X_treino_norm = treinoData - x_norm\n",
    "X_valid_norm = validData - x_norm\n",
    "X_teste_norm = x_test - x_norm"
   ]
  },
  {
   "cell_type": "code",
   "execution_count": 15,
   "metadata": {},
   "outputs": [],
   "source": [
    "## Preparando o teste para verificar \n",
    "k_vals = range(1,50, 2)\n",
    "acuracia = []"
   ]
  },
  {
   "cell_type": "code",
   "execution_count": 21,
   "metadata": {},
   "outputs": [
    {
     "name": "stdout",
     "output_type": "stream",
     "text": [
      "Com k = 1 a acurácia é de 99.21%\n",
      "Com k = 3 a acurácia é de 100.0%\n",
      "Com k = 5 a acurácia é de 100.0%\n",
      "Com k = 7 a acurácia é de 99.21%\n",
      "Com k = 9 a acurácia é de 98.41%\n",
      "Com k = 11 a acurácia é de 98.41%\n",
      "Com k = 13 a acurácia é de 97.62%\n",
      "Com k = 15 a acurácia é de 97.62%\n",
      "Com k = 17 a acurácia é de 97.62%\n",
      "Com k = 19 a acurácia é de 97.62%\n",
      "Com k = 21 a acurácia é de 97.62%\n",
      "Com k = 23 a acurácia é de 97.62%\n",
      "Com k = 25 a acurácia é de 96.83%\n",
      "Com k = 27 a acurácia é de 96.83%\n",
      "Com k = 29 a acurácia é de 96.83%\n",
      "Com k = 31 a acurácia é de 96.83%\n",
      "Com k = 33 a acurácia é de 96.03%\n",
      "Com k = 35 a acurácia é de 96.03%\n",
      "Com k = 37 a acurácia é de 96.03%\n",
      "Com k = 39 a acurácia é de 96.03%\n",
      "Com k = 41 a acurácia é de 96.03%\n",
      "Com k = 43 a acurácia é de 95.24%\n",
      "Com k = 45 a acurácia é de 94.44%\n",
      "Com k = 47 a acurácia é de 93.65%\n",
      "Com k = 49 a acurácia é de 93.65%\n"
     ]
    }
   ],
   "source": [
    "### Tentando encontrar o melhor valor de k\n",
    "for k in k_vals:\n",
    "    modelo = KNeighborsClassifier(n_neighbors= k)\n",
    "    modelo.fit(treinoData, treinoLabels)\n",
    "    score = modelo.score(validData, validLabels)\n",
    "    print(f'Com k = {k} a acurácia é de {round(score * 100, 2)}%' )\n",
    "    acuracia.append(score)"
   ]
  },
  {
   "cell_type": "code",
   "execution_count": 25,
   "metadata": {},
   "outputs": [
    {
     "data": {
      "text/plain": [
       "\u001b[1;31mSignature:\u001b[0m \u001b[0mnp\u001b[0m\u001b[1;33m.\u001b[0m\u001b[0margmax\u001b[0m\u001b[1;33m(\u001b[0m\u001b[0ma\u001b[0m\u001b[1;33m,\u001b[0m \u001b[0maxis\u001b[0m\u001b[1;33m=\u001b[0m\u001b[1;32mNone\u001b[0m\u001b[1;33m,\u001b[0m \u001b[0mout\u001b[0m\u001b[1;33m=\u001b[0m\u001b[1;32mNone\u001b[0m\u001b[1;33m)\u001b[0m\u001b[1;33m\u001b[0m\u001b[1;33m\u001b[0m\u001b[0m\n",
       "\u001b[1;31mDocstring:\u001b[0m\n",
       "Returns the indices of the maximum values along an axis.\n",
       "\n",
       "Parameters\n",
       "----------\n",
       "a : array_like\n",
       "    Input array.\n",
       "axis : int, optional\n",
       "    By default, the index is into the flattened array, otherwise\n",
       "    along the specified axis.\n",
       "out : array, optional\n",
       "    If provided, the result will be inserted into this array. It should\n",
       "    be of the appropriate shape and dtype.\n",
       "\n",
       "Returns\n",
       "-------\n",
       "index_array : ndarray of ints\n",
       "    Array of indices into the array. It has the same shape as `a.shape`\n",
       "    with the dimension along `axis` removed.\n",
       "\n",
       "See Also\n",
       "--------\n",
       "ndarray.argmax, argmin\n",
       "amax : The maximum value along a given axis.\n",
       "unravel_index : Convert a flat index into an index tuple.\n",
       "take_along_axis : Apply ``np.expand_dims(index_array, axis)``\n",
       "                  from argmax to an array as if by calling max.\n",
       "\n",
       "Notes\n",
       "-----\n",
       "In case of multiple occurrences of the maximum values, the indices\n",
       "corresponding to the first occurrence are returned.\n",
       "\n",
       "Examples\n",
       "--------\n",
       ">>> a = np.arange(6).reshape(2,3) + 10\n",
       ">>> a\n",
       "array([[10, 11, 12],\n",
       "       [13, 14, 15]])\n",
       ">>> np.argmax(a)\n",
       "5\n",
       ">>> np.argmax(a, axis=0)\n",
       "array([1, 1, 1])\n",
       ">>> np.argmax(a, axis=1)\n",
       "array([2, 2])\n",
       "\n",
       "Indexes of the maximal elements of a N-dimensional array:\n",
       "\n",
       ">>> ind = np.unravel_index(np.argmax(a, axis=None), a.shape)\n",
       ">>> ind\n",
       "(1, 2)\n",
       ">>> a[ind]\n",
       "15\n",
       "\n",
       ">>> b = np.arange(6)\n",
       ">>> b[1] = 5\n",
       ">>> b\n",
       "array([0, 5, 2, 3, 4, 5])\n",
       ">>> np.argmax(b)  # Only the first occurrence is returned.\n",
       "1\n",
       "\n",
       ">>> x = np.array([[4,2,3], [1,0,3]])\n",
       ">>> index_array = np.argmax(x, axis=-1)\n",
       ">>> # Same as np.max(x, axis=-1, keepdims=True)\n",
       ">>> np.take_along_axis(x, np.expand_dims(index_array, axis=-1), axis=-1)\n",
       "array([[4],\n",
       "       [3]])\n",
       ">>> # Same as np.max(x, axis=-1)\n",
       ">>> np.take_along_axis(x, np.expand_dims(index_array, axis=-1), axis=-1).squeeze(axis=-1)\n",
       "array([4, 3])\n",
       "\u001b[1;31mFile:\u001b[0m      c:\\users\\medina\\anaconda3\\lib\\site-packages\\numpy\\core\\fromnumeric.py\n",
       "\u001b[1;31mType:\u001b[0m      function\n"
      ]
     },
     "metadata": {},
     "output_type": "display_data"
    }
   ],
   "source": [
    "?np.argmax"
   ]
  },
  {
   "cell_type": "code",
   "execution_count": 26,
   "metadata": {},
   "outputs": [
    {
     "name": "stdout",
     "output_type": "stream",
     "text": [
      "O melhor valor de k é 3 tendo uma acurácia de 1.0\n"
     ]
    }
   ],
   "source": [
    "## Vimos acima que os valores de k presentes no índice 1 e 2 foram os melhores, mas vamos usar o método abaixo para encontrar o \"melhor\" \n",
    "best_k = np.argmax(acuracia)\n",
    "print(f'O melhor valor de k é {k_vals[best_k]} tendo uma acurácia de {acuracia[best_k]}')"
   ]
  },
  {
   "cell_type": "markdown",
   "metadata": {},
   "source": [
    "### Preparando o Modelo com o melhor valor de K encontrado"
   ]
  },
  {
   "cell_type": "code",
   "execution_count": 27,
   "metadata": {},
   "outputs": [
    {
     "data": {
      "text/plain": [
       "KNeighborsClassifier(n_neighbors=3)"
      ]
     },
     "execution_count": 27,
     "metadata": {},
     "output_type": "execute_result"
    }
   ],
   "source": [
    "# Construindo e treinando o modelo\n",
    "final_model = KNeighborsClassifier(n_neighbors= k_vals[best_k])\n",
    "final_model.fit(x_train, y_train)"
   ]
  },
  {
   "cell_type": "code",
   "execution_count": 28,
   "metadata": {},
   "outputs": [
    {
     "data": {
      "text/plain": [
       "\u001b[1;31mSignature:\u001b[0m\n",
       "\u001b[0mclassification_report\u001b[0m\u001b[1;33m(\u001b[0m\u001b[1;33m\n",
       "\u001b[0m    \u001b[0my_true\u001b[0m\u001b[1;33m,\u001b[0m\u001b[1;33m\n",
       "\u001b[0m    \u001b[0my_pred\u001b[0m\u001b[1;33m,\u001b[0m\u001b[1;33m\n",
       "\u001b[0m    \u001b[1;33m*\u001b[0m\u001b[1;33m,\u001b[0m\u001b[1;33m\n",
       "\u001b[0m    \u001b[0mlabels\u001b[0m\u001b[1;33m=\u001b[0m\u001b[1;32mNone\u001b[0m\u001b[1;33m,\u001b[0m\u001b[1;33m\n",
       "\u001b[0m    \u001b[0mtarget_names\u001b[0m\u001b[1;33m=\u001b[0m\u001b[1;32mNone\u001b[0m\u001b[1;33m,\u001b[0m\u001b[1;33m\n",
       "\u001b[0m    \u001b[0msample_weight\u001b[0m\u001b[1;33m=\u001b[0m\u001b[1;32mNone\u001b[0m\u001b[1;33m,\u001b[0m\u001b[1;33m\n",
       "\u001b[0m    \u001b[0mdigits\u001b[0m\u001b[1;33m=\u001b[0m\u001b[1;36m2\u001b[0m\u001b[1;33m,\u001b[0m\u001b[1;33m\n",
       "\u001b[0m    \u001b[0moutput_dict\u001b[0m\u001b[1;33m=\u001b[0m\u001b[1;32mFalse\u001b[0m\u001b[1;33m,\u001b[0m\u001b[1;33m\n",
       "\u001b[0m    \u001b[0mzero_division\u001b[0m\u001b[1;33m=\u001b[0m\u001b[1;34m'warn'\u001b[0m\u001b[1;33m,\u001b[0m\u001b[1;33m\n",
       "\u001b[0m\u001b[1;33m)\u001b[0m\u001b[1;33m\u001b[0m\u001b[1;33m\u001b[0m\u001b[0m\n",
       "\u001b[1;31mDocstring:\u001b[0m\n",
       "Build a text report showing the main classification metrics.\n",
       "\n",
       "Read more in the :ref:`User Guide <classification_report>`.\n",
       "\n",
       "Parameters\n",
       "----------\n",
       "y_true : 1d array-like, or label indicator array / sparse matrix\n",
       "    Ground truth (correct) target values.\n",
       "\n",
       "y_pred : 1d array-like, or label indicator array / sparse matrix\n",
       "    Estimated targets as returned by a classifier.\n",
       "\n",
       "labels : array, shape = [n_labels]\n",
       "    Optional list of label indices to include in the report.\n",
       "\n",
       "target_names : list of strings\n",
       "    Optional display names matching the labels (same order).\n",
       "\n",
       "sample_weight : array-like of shape (n_samples,), default=None\n",
       "    Sample weights.\n",
       "\n",
       "digits : int\n",
       "    Number of digits for formatting output floating point values.\n",
       "    When ``output_dict`` is ``True``, this will be ignored and the\n",
       "    returned values will not be rounded.\n",
       "\n",
       "output_dict : bool (default = False)\n",
       "    If True, return output as dict\n",
       "\n",
       "    .. versionadded:: 0.20\n",
       "\n",
       "zero_division : \"warn\", 0 or 1, default=\"warn\"\n",
       "    Sets the value to return when there is a zero division. If set to\n",
       "    \"warn\", this acts as 0, but warnings are also raised.\n",
       "\n",
       "Returns\n",
       "-------\n",
       "report : string / dict\n",
       "    Text summary of the precision, recall, F1 score for each class.\n",
       "    Dictionary returned if output_dict is True. Dictionary has the\n",
       "    following structure::\n",
       "\n",
       "        {'label 1': {'precision':0.5,\n",
       "                     'recall':1.0,\n",
       "                     'f1-score':0.67,\n",
       "                     'support':1},\n",
       "         'label 2': { ... },\n",
       "          ...\n",
       "        }\n",
       "\n",
       "    The reported averages include macro average (averaging the unweighted\n",
       "    mean per label), weighted average (averaging the support-weighted mean\n",
       "    per label), and sample average (only for multilabel classification).\n",
       "    Micro average (averaging the total true positives, false negatives and\n",
       "    false positives) is only shown for multi-label or multi-class\n",
       "    with a subset of classes, because it corresponds to accuracy otherwise.\n",
       "    See also :func:`precision_recall_fscore_support` for more details\n",
       "    on averages.\n",
       "\n",
       "    Note that in binary classification, recall of the positive class\n",
       "    is also known as \"sensitivity\"; recall of the negative class is\n",
       "    \"specificity\".\n",
       "\n",
       "See also\n",
       "--------\n",
       "precision_recall_fscore_support, confusion_matrix,\n",
       "multilabel_confusion_matrix\n",
       "\n",
       "Examples\n",
       "--------\n",
       ">>> from sklearn.metrics import classification_report\n",
       ">>> y_true = [0, 1, 2, 2, 2]\n",
       ">>> y_pred = [0, 0, 2, 2, 1]\n",
       ">>> target_names = ['class 0', 'class 1', 'class 2']\n",
       ">>> print(classification_report(y_true, y_pred, target_names=target_names))\n",
       "              precision    recall  f1-score   support\n",
       "<BLANKLINE>\n",
       "     class 0       0.50      1.00      0.67         1\n",
       "     class 1       0.00      0.00      0.00         1\n",
       "     class 2       1.00      0.67      0.80         3\n",
       "<BLANKLINE>\n",
       "    accuracy                           0.60         5\n",
       "   macro avg       0.50      0.56      0.49         5\n",
       "weighted avg       0.70      0.60      0.61         5\n",
       "<BLANKLINE>\n",
       ">>> y_pred = [1, 1, 0]\n",
       ">>> y_true = [1, 1, 1]\n",
       ">>> print(classification_report(y_true, y_pred, labels=[1, 2, 3]))\n",
       "              precision    recall  f1-score   support\n",
       "<BLANKLINE>\n",
       "           1       1.00      0.67      0.80         3\n",
       "           2       0.00      0.00      0.00         0\n",
       "           3       0.00      0.00      0.00         0\n",
       "<BLANKLINE>\n",
       "   micro avg       1.00      0.67      0.80         3\n",
       "   macro avg       0.33      0.22      0.27         3\n",
       "weighted avg       1.00      0.67      0.80         3\n",
       "<BLANKLINE>\n",
       "\u001b[1;31mFile:\u001b[0m      c:\\users\\medina\\anaconda3\\lib\\site-packages\\sklearn\\metrics\\_classification.py\n",
       "\u001b[1;31mType:\u001b[0m      function\n"
      ]
     },
     "metadata": {},
     "output_type": "display_data"
    }
   ],
   "source": [
    "?classification_report"
   ]
  },
  {
   "cell_type": "code",
   "execution_count": 29,
   "metadata": {},
   "outputs": [
    {
     "name": "stdout",
     "output_type": "stream",
     "text": [
      "              precision    recall  f1-score   support\n",
      "\n",
      "           0       1.00      1.00      1.00        53\n",
      "           1       0.95      0.98      0.96        55\n",
      "           2       1.00      1.00      1.00        49\n",
      "           3       1.00      1.00      1.00        54\n",
      "           4       1.00      0.98      0.99        61\n",
      "           5       0.98      0.98      0.98        59\n",
      "           6       0.98      0.98      0.98        46\n",
      "           7       1.00      1.00      1.00        56\n",
      "           8       1.00      0.95      0.97        59\n",
      "           9       0.96      1.00      0.98        48\n",
      "\n",
      "    accuracy                           0.99       540\n",
      "   macro avg       0.99      0.99      0.99       540\n",
      "weighted avg       0.99      0.99      0.99       540\n",
      "\n"
     ]
    }
   ],
   "source": [
    "predictions = final_model.predict(x_test)\n",
    "print(classification_report(y_test, predictions))"
   ]
  },
  {
   "cell_type": "code",
   "execution_count": 30,
   "metadata": {},
   "outputs": [
    {
     "data": {
      "text/plain": [
       "\u001b[1;31mSignature:\u001b[0m\n",
       "\u001b[0mconfusion_matrix\u001b[0m\u001b[1;33m(\u001b[0m\u001b[1;33m\n",
       "\u001b[0m    \u001b[0my_true\u001b[0m\u001b[1;33m,\u001b[0m\u001b[1;33m\n",
       "\u001b[0m    \u001b[0my_pred\u001b[0m\u001b[1;33m,\u001b[0m\u001b[1;33m\n",
       "\u001b[0m    \u001b[1;33m*\u001b[0m\u001b[1;33m,\u001b[0m\u001b[1;33m\n",
       "\u001b[0m    \u001b[0mlabels\u001b[0m\u001b[1;33m=\u001b[0m\u001b[1;32mNone\u001b[0m\u001b[1;33m,\u001b[0m\u001b[1;33m\n",
       "\u001b[0m    \u001b[0msample_weight\u001b[0m\u001b[1;33m=\u001b[0m\u001b[1;32mNone\u001b[0m\u001b[1;33m,\u001b[0m\u001b[1;33m\n",
       "\u001b[0m    \u001b[0mnormalize\u001b[0m\u001b[1;33m=\u001b[0m\u001b[1;32mNone\u001b[0m\u001b[1;33m,\u001b[0m\u001b[1;33m\n",
       "\u001b[0m\u001b[1;33m)\u001b[0m\u001b[1;33m\u001b[0m\u001b[1;33m\u001b[0m\u001b[0m\n",
       "\u001b[1;31mDocstring:\u001b[0m\n",
       "Compute confusion matrix to evaluate the accuracy of a classification.\n",
       "\n",
       "By definition a confusion matrix :math:`C` is such that :math:`C_{i, j}`\n",
       "is equal to the number of observations known to be in group :math:`i` and\n",
       "predicted to be in group :math:`j`.\n",
       "\n",
       "Thus in binary classification, the count of true negatives is\n",
       ":math:`C_{0,0}`, false negatives is :math:`C_{1,0}`, true positives is\n",
       ":math:`C_{1,1}` and false positives is :math:`C_{0,1}`.\n",
       "\n",
       "Read more in the :ref:`User Guide <confusion_matrix>`.\n",
       "\n",
       "Parameters\n",
       "----------\n",
       "y_true : array-like of shape (n_samples,)\n",
       "    Ground truth (correct) target values.\n",
       "\n",
       "y_pred : array-like of shape (n_samples,)\n",
       "    Estimated targets as returned by a classifier.\n",
       "\n",
       "labels : array-like of shape (n_classes), default=None\n",
       "    List of labels to index the matrix. This may be used to reorder\n",
       "    or select a subset of labels.\n",
       "    If ``None`` is given, those that appear at least once\n",
       "    in ``y_true`` or ``y_pred`` are used in sorted order.\n",
       "\n",
       "sample_weight : array-like of shape (n_samples,), default=None\n",
       "    Sample weights.\n",
       "\n",
       "    .. versionadded:: 0.18\n",
       "\n",
       "normalize : {'true', 'pred', 'all'}, default=None\n",
       "    Normalizes confusion matrix over the true (rows), predicted (columns)\n",
       "    conditions or all the population. If None, confusion matrix will not be\n",
       "    normalized.\n",
       "\n",
       "Returns\n",
       "-------\n",
       "C : ndarray of shape (n_classes, n_classes)\n",
       "    Confusion matrix whose i-th row and j-th\n",
       "    column entry indicates the number of\n",
       "    samples with true label being i-th class\n",
       "    and prediced label being j-th class.\n",
       "\n",
       "References\n",
       "----------\n",
       ".. [1] `Wikipedia entry for the Confusion matrix\n",
       "       <https://en.wikipedia.org/wiki/Confusion_matrix>`_\n",
       "       (Wikipedia and other references may use a different\n",
       "       convention for axes)\n",
       "\n",
       "Examples\n",
       "--------\n",
       ">>> from sklearn.metrics import confusion_matrix\n",
       ">>> y_true = [2, 0, 2, 2, 0, 1]\n",
       ">>> y_pred = [0, 0, 2, 2, 0, 2]\n",
       ">>> confusion_matrix(y_true, y_pred)\n",
       "array([[2, 0, 0],\n",
       "       [0, 0, 1],\n",
       "       [1, 0, 2]])\n",
       "\n",
       ">>> y_true = [\"cat\", \"ant\", \"cat\", \"cat\", \"ant\", \"bird\"]\n",
       ">>> y_pred = [\"ant\", \"ant\", \"cat\", \"cat\", \"ant\", \"cat\"]\n",
       ">>> confusion_matrix(y_true, y_pred, labels=[\"ant\", \"bird\", \"cat\"])\n",
       "array([[2, 0, 0],\n",
       "       [0, 0, 1],\n",
       "       [1, 0, 2]])\n",
       "\n",
       "In the binary case, we can extract true positives, etc as follows:\n",
       "\n",
       ">>> tn, fp, fn, tp = confusion_matrix([0, 1, 0, 1], [1, 1, 1, 0]).ravel()\n",
       ">>> (tn, fp, fn, tp)\n",
       "(0, 2, 1, 1)\n",
       "\u001b[1;31mFile:\u001b[0m      c:\\users\\medina\\anaconda3\\lib\\site-packages\\sklearn\\metrics\\_classification.py\n",
       "\u001b[1;31mType:\u001b[0m      function\n"
      ]
     },
     "metadata": {},
     "output_type": "display_data"
    }
   ],
   "source": [
    "?confusion_matrix"
   ]
  },
  {
   "cell_type": "code",
   "execution_count": 31,
   "metadata": {},
   "outputs": [
    {
     "name": "stdout",
     "output_type": "stream",
     "text": [
      "Confusion Matrix\n",
      "[[53  0  0  0  0  0  0  0  0  0]\n",
      " [ 0 54  0  0  0  1  0  0  0  0]\n",
      " [ 0  0 49  0  0  0  0  0  0  0]\n",
      " [ 0  0  0 54  0  0  0  0  0  0]\n",
      " [ 0  0  0  0 60  0  0  0  0  1]\n",
      " [ 0  0  0  0  0 58  0  0  0  1]\n",
      " [ 0  1  0  0  0  0 45  0  0  0]\n",
      " [ 0  0  0  0  0  0  0 56  0  0]\n",
      " [ 0  2  0  0  0  0  1  0 56  0]\n",
      " [ 0  0  0  0  0  0  0  0  0 48]]\n"
     ]
    }
   ],
   "source": [
    "print('Confusion Matrix')\n",
    "print(confusion_matrix(y_test, predictions))"
   ]
  },
  {
   "cell_type": "markdown",
   "metadata": {},
   "source": [
    "Podemos ver que nosso modelo de certa forma conseguiu prever bem os digitos, o dígito que o algoritmo errou mais, foi o número 1, pois, ele previu o número 8 duas vezes e o número 6 uma vez"
   ]
  }
 ],
 "metadata": {
  "kernelspec": {
   "display_name": "Python 3",
   "language": "python",
   "name": "python3"
  },
  "language_info": {
   "codemirror_mode": {
    "name": "ipython",
    "version": 3
   },
   "file_extension": ".py",
   "mimetype": "text/x-python",
   "name": "python",
   "nbconvert_exporter": "python",
   "pygments_lexer": "ipython3",
   "version": "3.7.3"
  }
 },
 "nbformat": 4,
 "nbformat_minor": 4
}
